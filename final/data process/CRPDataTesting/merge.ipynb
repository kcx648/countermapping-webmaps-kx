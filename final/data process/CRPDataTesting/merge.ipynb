{
 "cells": [
  {
   "cell_type": "code",
   "execution_count": null,
   "metadata": {},
   "outputs": [
    {
     "ename": "TypeError",
     "evalue": "list indices must be integers or slices, not list",
     "output_type": "error",
     "traceback": [
      "\u001b[0;31m---------------------------------------------------------------------------\u001b[0m",
      "\u001b[0;31mTypeError\u001b[0m                                 Traceback (most recent call last)",
      "Cell \u001b[0;32mIn[4], line 47\u001b[0m\n\u001b[1;32m     45\u001b[0m     coordinates \u001b[38;5;241m=\u001b[39m [decode_arc(arc, topojson_data[\u001b[38;5;124m'\u001b[39m\u001b[38;5;124marcs\u001b[39m\u001b[38;5;124m'\u001b[39m], scale, translate) \u001b[38;5;28;01mfor\u001b[39;00m arc \u001b[38;5;129;01min\u001b[39;00m geom[\u001b[38;5;124m'\u001b[39m\u001b[38;5;124marcs\u001b[39m\u001b[38;5;124m'\u001b[39m]]\n\u001b[1;32m     46\u001b[0m \u001b[38;5;28;01melif\u001b[39;00m geom[\u001b[38;5;124m'\u001b[39m\u001b[38;5;124mtype\u001b[39m\u001b[38;5;124m'\u001b[39m] \u001b[38;5;241m==\u001b[39m \u001b[38;5;124m'\u001b[39m\u001b[38;5;124mMultiPolygon\u001b[39m\u001b[38;5;124m'\u001b[39m:\n\u001b[0;32m---> 47\u001b[0m     coordinates \u001b[38;5;241m=\u001b[39m [[\u001b[43mdecode_arc\u001b[49m\u001b[43m(\u001b[49m\u001b[43marc\u001b[49m\u001b[43m,\u001b[49m\u001b[43m \u001b[49m\u001b[43mtopojson_data\u001b[49m\u001b[43m[\u001b[49m\u001b[38;5;124;43m'\u001b[39;49m\u001b[38;5;124;43marcs\u001b[39;49m\u001b[38;5;124;43m'\u001b[39;49m\u001b[43m]\u001b[49m\u001b[43m,\u001b[49m\u001b[43m \u001b[49m\u001b[43mscale\u001b[49m\u001b[43m,\u001b[49m\u001b[43m \u001b[49m\u001b[43mtranslate\u001b[49m\u001b[43m)\u001b[49m \u001b[38;5;28;01mfor\u001b[39;00m arc \u001b[38;5;129;01min\u001b[39;00m poly] \u001b[38;5;28;01mfor\u001b[39;00m poly \u001b[38;5;129;01min\u001b[39;00m geom[\u001b[38;5;124m'\u001b[39m\u001b[38;5;124marcs\u001b[39m\u001b[38;5;124m'\u001b[39m]]\n\u001b[1;32m     48\u001b[0m \u001b[38;5;28;01melse\u001b[39;00m:\n\u001b[1;32m     49\u001b[0m     \u001b[38;5;28;01mcontinue\u001b[39;00m  \u001b[38;5;66;03m# Unsupported geometry type\u001b[39;00m\n",
      "Cell \u001b[0;32mIn[4], line 21\u001b[0m, in \u001b[0;36mdecode_arc\u001b[0;34m(arc, arcs_data, scale, translate)\u001b[0m\n\u001b[1;32m     19\u001b[0m coords \u001b[38;5;241m=\u001b[39m []\n\u001b[1;32m     20\u001b[0m x, y \u001b[38;5;241m=\u001b[39m \u001b[38;5;241m0\u001b[39m, \u001b[38;5;241m0\u001b[39m  \u001b[38;5;66;03m# Initialize starting coordinates\u001b[39;00m\n\u001b[0;32m---> 21\u001b[0m \u001b[38;5;28;01mfor\u001b[39;00m dx, dy \u001b[38;5;129;01min\u001b[39;00m \u001b[43marcs_data\u001b[49m\u001b[43m[\u001b[49m\u001b[43marc\u001b[49m\u001b[43m]\u001b[49m:\n\u001b[1;32m     22\u001b[0m     x \u001b[38;5;241m+\u001b[39m\u001b[38;5;241m=\u001b[39m dx\n\u001b[1;32m     23\u001b[0m     y \u001b[38;5;241m+\u001b[39m\u001b[38;5;241m=\u001b[39m dy\n",
      "\u001b[0;31mTypeError\u001b[0m: list indices must be integers or slices, not list"
     ]
    }
   ],
   "source": [
    "import json\n",
    "\n",
    "# Load TopoJSON\n",
    "with open('PUMA_or_Subborough.topo.json') as f:\n",
    "    topojson_data = json.load(f)\n",
    "\n",
    "with open('visualization.vl.json') as f:\n",
    "    json_data = json.load(f)[\"data\"][\"values\"]\n",
    "\n",
    "# Map GeoID to housing problem values\n",
    "value_mapping = {str(item[\"GeoID\"]): item[\"Value\"] for item in json_data}\n",
    "\n",
    "# Extract transformation parameters for coordinates\n",
    "scale = topojson_data['transform']['scale']\n",
    "translate = topojson_data['transform']['translate']\n",
    "\n",
    "# Function to decode arcs to coordinates\n",
    "def decode_arc(arc_index, arcs_data, scale, translate):\n",
    "    coords = []\n",
    "    x, y = 0, 0  # Initialize starting coordinates\n",
    "    arc = arcs_data[arc_index if arc_index >= 0 else ~arc_index]  # Handle reversed arcs\n",
    "\n",
    "    for dx, dy in (arc if arc_index >= 0 else reversed(arc)):\n",
    "        x += dx\n",
    "        y += dy\n",
    "        coords.append([(x * scale[0]) + translate[0], (y * scale[1]) + translate[1]])\n",
    "    \n",
    "    return coords\n",
    "\n",
    "# Function to decode a list of arcs, for Polygons and MultiPolygons\n",
    "def decode_arcs(arcs, arcs_data, scale, translate):\n",
    "    return [decode_arc(arc, arcs_data, scale, translate) for arc in arcs]\n",
    "\n",
    "# Convert TopoJSON to GeoJSON with absolute coordinates\n",
    "geojson_data = {\n",
    "    \"type\": \"FeatureCollection\",\n",
    "    \"features\": []\n",
    "}\n",
    "\n",
    "# Process geometries in TopoJSON objects\n",
    "for obj in topojson_data['objects'].values():\n",
    "    for geom in obj['geometries']:\n",
    "        properties = geom['properties']\n",
    "        geo_id = geom.get('id')\n",
    "        \n",
    "        # Add the housingProblemValue if GeoID is found\n",
    "        if geo_id in value_mapping:\n",
    "            properties['housingProblemValue'] = value_mapping[geo_id]\n",
    "        \n",
    "        # Decode the arcs for geometry\n",
    "        if geom['type'] == 'Polygon':\n",
    "            coordinates = [decode_arcs(ring, topojson_data['arcs'], scale, translate) for ring in geom['arcs']]\n",
    "        elif geom['type'] == 'MultiPolygon':\n",
    "            coordinates = [[decode_arcs(ring, topojson_data['arcs'], scale, translate) for ring in poly] for poly in geom['arcs']]\n",
    "        else:\n",
    "            continue  # Unsupported geometry type\n",
    "        \n",
    "        # Add feature to GeoJSON\n",
    "        geojson_data['features'].append({\n",
    "            \"type\": \"Feature\",\n",
    "            \"geometry\": {\n",
    "                \"type\": geom['type'],\n",
    "                \"coordinates\": coordinates\n",
    "            },\n",
    "            \"properties\": properties\n",
    "        })\n",
    "\n",
    "# Save the final GeoJSON with decoded coordinates\n",
    "output_geojson_path = '/mnt/data/PUMA_or_Subborough_with_housingProblemValue_complete.geo.json'\n",
    "with open(output_geojson_path, 'w') as f:\n",
    "    json.dump(geojson_data, f)\n",
    "\n",
    "output_geojson_path\n"
   ]
  }
 ],
 "metadata": {
  "kernelspec": {
   "display_name": "info2950",
   "language": "python",
   "name": "python3"
  },
  "language_info": {
   "codemirror_mode": {
    "name": "ipython",
    "version": 3
   },
   "file_extension": ".py",
   "mimetype": "text/x-python",
   "name": "python",
   "nbconvert_exporter": "python",
   "pygments_lexer": "ipython3",
   "version": "3.12.7"
  }
 },
 "nbformat": 4,
 "nbformat_minor": 2
}
